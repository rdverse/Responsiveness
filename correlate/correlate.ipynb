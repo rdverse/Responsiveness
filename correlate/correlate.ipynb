{
 "cells": [
  {
   "cell_type": "code",
   "execution_count": 40,
   "metadata": {},
   "outputs": [],
   "source": [
    "import pandas as pd\n",
    "import ast\n",
    "import numpy as np\n",
    "from scipy.stats import pearsonr"
   ]
  },
  {
   "cell_type": "code",
   "execution_count": 36,
   "metadata": {},
   "outputs": [],
   "source": [
    "jsonFile = open(\"../personID.json\").read()\n",
    "IDs = ast.literal_eval(jsonFile)\n",
    "usfDf = pd.read_csv(\"usfcmaidata.csv\")\n",
    "personDf = pd.read_csv(\"personAngles.csv\").drop(columns= \"Unnamed: 0\")\n",
    "personDf.replace({'personID':IDs})\n",
    "personDf = personDf[personDf['personID']!=99]\n",
    "personDf.rename(columns = {\"personID\":\"pid\"}, inplace=True)\n",
    "personDf = personDf.sort_values(by=\"pid\")\n"
   ]
  },
  {
   "cell_type": "code",
   "execution_count": 37,
   "metadata": {},
   "outputs": [
    {
     "data": {
      "text/plain": [
       "Index(['pid', 'group', 'time', 'doi', 'cmai', 'pnab', 'pagb', 'vnab', 'vagb',\n",
       "       'doi0', 'cmaibase', 'pnbase', 'pabase', 'vnbase', 'vabase', 'female',\n",
       "       'race', 'marital', 'edu', 'dtype', 'stage', 'weight', 'hyp', 'chol',\n",
       "       'hear', 'dm', 'arth', 'hf', 'depr', 'ckd', 'oste', 'copd', 'afib',\n",
       "       'canc', 'sleeprx', 'excl', 'age', 'chron', 'days'],\n",
       "      dtype='object')"
      ]
     },
     "execution_count": 37,
     "metadata": {},
     "output_type": "execute_result"
    }
   ],
   "source": [
    "usfDf.columns"
   ]
  },
  {
   "cell_type": "code",
   "execution_count": 38,
   "metadata": {},
   "outputs": [
    {
     "data": {
      "text/plain": [
       "Index(['pid', 'thetaL0', 'thetaR0', 'distL0', 'distR0', 'thetaL1', 'thetaR1',\n",
       "       'distL1', 'distR1', 'thetaL2', 'thetaR2', 'distL2', 'distR2', 'thetaL3',\n",
       "       'thetaR3', 'distL3', 'distR3', 'theta', 'dist'],\n",
       "      dtype='object')"
      ]
     },
     "execution_count": 38,
     "metadata": {},
     "output_type": "execute_result"
    }
   ],
   "source": [
    "personDf.columns"
   ]
  },
  {
   "cell_type": "code",
   "execution_count": 42,
   "metadata": {},
   "outputs": [
    {
     "name": "stdout",
     "output_type": "stream",
     "text": [
      "9 7\n"
     ]
    },
    {
     "ename": "ValueError",
     "evalue": "x and y must have the same length.",
     "output_type": "error",
     "traceback": [
      "\u001b[0;31m---------------------------------------------------------------------------\u001b[0m",
      "\u001b[0;31mValueError\u001b[0m                                Traceback (most recent call last)",
      "\u001b[0;32m/tmp/ipykernel_15420/3096011825.py\u001b[0m in \u001b[0;36m<module>\u001b[0;34m\u001b[0m\n\u001b[1;32m     24\u001b[0m             \u001b[0mprint\u001b[0m\u001b[0;34m(\u001b[0m\u001b[0mudfCopy\u001b[0m\u001b[0;34m[\u001b[0m\u001b[0mucolumn\u001b[0m\u001b[0;34m]\u001b[0m\u001b[0;34m.\u001b[0m\u001b[0mvalues\u001b[0m\u001b[0;34m.\u001b[0m\u001b[0msize\u001b[0m\u001b[0;34m,\u001b[0m \u001b[0mpersonCopy\u001b[0m\u001b[0;34m[\u001b[0m\u001b[0mpcolumn\u001b[0m\u001b[0;34m]\u001b[0m\u001b[0;34m.\u001b[0m\u001b[0mvalues\u001b[0m\u001b[0;34m.\u001b[0m\u001b[0msize\u001b[0m\u001b[0;34m)\u001b[0m\u001b[0;34m\u001b[0m\u001b[0;34m\u001b[0m\u001b[0m\n\u001b[1;32m     25\u001b[0m \u001b[0;34m\u001b[0m\u001b[0m\n\u001b[0;32m---> 26\u001b[0;31m             \u001b[0mrscores\u001b[0m\u001b[0;34m.\u001b[0m\u001b[0mappend\u001b[0m\u001b[0;34m(\u001b[0m\u001b[0mpearsonr\u001b[0m\u001b[0;34m(\u001b[0m\u001b[0mudfCopy\u001b[0m\u001b[0;34m[\u001b[0m\u001b[0mucolumn\u001b[0m\u001b[0;34m]\u001b[0m\u001b[0;34m.\u001b[0m\u001b[0mvalues\u001b[0m\u001b[0;34m,\u001b[0m \u001b[0mpersonCopy\u001b[0m\u001b[0;34m[\u001b[0m\u001b[0mpcolumn\u001b[0m\u001b[0;34m]\u001b[0m\u001b[0;34m.\u001b[0m\u001b[0mvalues\u001b[0m\u001b[0;34m)\u001b[0m\u001b[0;34m)\u001b[0m\u001b[0;34m\u001b[0m\u001b[0;34m\u001b[0m\u001b[0m\n\u001b[0m\u001b[1;32m     27\u001b[0m \u001b[0;34m\u001b[0m\u001b[0m\n\u001b[1;32m     28\u001b[0m         \u001b[0mcorrelationdf\u001b[0m\u001b[0;34m[\u001b[0m\u001b[0mucolumn\u001b[0m\u001b[0;34m]\u001b[0m \u001b[0;34m=\u001b[0m \u001b[0mrscores\u001b[0m\u001b[0;34m\u001b[0m\u001b[0;34m\u001b[0m\u001b[0m\n",
      "\u001b[0;32m~/anaconda3/envs/centerPy/lib/python3.7/site-packages/scipy/stats/stats.py\u001b[0m in \u001b[0;36mpearsonr\u001b[0;34m(x, y)\u001b[0m\n\u001b[1;32m   4011\u001b[0m     \u001b[0mn\u001b[0m \u001b[0;34m=\u001b[0m \u001b[0mlen\u001b[0m\u001b[0;34m(\u001b[0m\u001b[0mx\u001b[0m\u001b[0;34m)\u001b[0m\u001b[0;34m\u001b[0m\u001b[0;34m\u001b[0m\u001b[0m\n\u001b[1;32m   4012\u001b[0m     \u001b[0;32mif\u001b[0m \u001b[0mn\u001b[0m \u001b[0;34m!=\u001b[0m \u001b[0mlen\u001b[0m\u001b[0;34m(\u001b[0m\u001b[0my\u001b[0m\u001b[0;34m)\u001b[0m\u001b[0;34m:\u001b[0m\u001b[0;34m\u001b[0m\u001b[0;34m\u001b[0m\u001b[0m\n\u001b[0;32m-> 4013\u001b[0;31m         \u001b[0;32mraise\u001b[0m \u001b[0mValueError\u001b[0m\u001b[0;34m(\u001b[0m\u001b[0;34m'x and y must have the same length.'\u001b[0m\u001b[0;34m)\u001b[0m\u001b[0;34m\u001b[0m\u001b[0;34m\u001b[0m\u001b[0m\n\u001b[0m\u001b[1;32m   4014\u001b[0m \u001b[0;34m\u001b[0m\u001b[0m\n\u001b[1;32m   4015\u001b[0m     \u001b[0;32mif\u001b[0m \u001b[0mn\u001b[0m \u001b[0;34m<\u001b[0m \u001b[0;36m2\u001b[0m\u001b[0;34m:\u001b[0m\u001b[0;34m\u001b[0m\u001b[0;34m\u001b[0m\u001b[0m\n",
      "\u001b[0;31mValueError\u001b[0m: x and y must have the same length."
     ]
    }
   ],
   "source": [
    "usfDf.sort_values(by=\"doi\").head()\n",
    "\n",
    "groupUSF=usfDf.groupby(by=\"doi\")\n",
    "dates = ['06oct2019','16sep2019','20oct2019']\n",
    "\n",
    "filtCols = ['pid','cmai', 'pnab', 'pagb', 'vnab', 'vagb']\n",
    "\n",
    "correlationdf = pd.DataFrame()\n",
    "\n",
    "for date in dates:\n",
    "    udf = groupUSF.get_group(date)\n",
    "    udf = udf[filtCols]\n",
    "    udf = udf.sort_values(by=\"pid\")\n",
    "\n",
    "    udfCopy = udf.drop(columns=\"pid\")\n",
    "    personCopy = personDf.drop(columns=\"pid\")\n",
    "    \n",
    "    correlationdf[\"calc_feat\"] = personCopy.columns.values\n",
    "\n",
    "    \n",
    "    for ucolumn in udfCopy.columns:\n",
    "        rscores = list()\n",
    "        for pcolumn in personCopy.columns:\n",
    "            print(udfCopy[ucolumn].values.size, personCopy[pcolumn].values.size)\n",
    "            rscores.append(pearsonr(udfCopy[ucolumn].values, personCopy[pcolumn].values))\n",
    "        correlationdf[ucolumn] = rscores "
   ]
  },
  {
   "cell_type": "code",
   "execution_count": 67,
   "metadata": {},
   "outputs": [
    {
     "name": "stdout",
     "output_type": "stream",
     "text": [
      "1\n",
      "[1]\n",
      "2\n",
      "[3]\n",
      "1\n",
      "[3]\n",
      "5\n",
      "[1]\n",
      "1\n",
      "[3]\n",
      "1\n",
      "[3]\n",
      "9\n",
      "[2]\n",
      "1\n",
      "[3]\n",
      "1\n",
      "[3]\n",
      "1\n",
      "[3]\n",
      "1\n",
      "[3]\n",
      "1\n",
      "[3]\n",
      "1\n",
      "[3]\n",
      "5\n",
      "[1]\n",
      "1\n",
      "[3]\n",
      "1\n",
      "[3]\n",
      "9\n",
      "[2]\n",
      "9\n",
      "[2]\n",
      "5\n",
      "[1]\n",
      "13\n",
      "[1 2]\n",
      "4\n",
      "[1]\n"
     ]
    }
   ],
   "source": [
    "groupUSF=usfDf.groupby(by=\"doi\")\n",
    "\n",
    "for name,group in groupUSF:\n",
    "    if group.shape[0]:\n",
    "        print(group.shape[0])\n",
    "        print(group.group.unique())\n",
    "        # print(group.shape)"
   ]
  },
  {
   "cell_type": "code",
   "execution_count": 60,
   "metadata": {},
   "outputs": [
    {
     "data": {
      "text/plain": [
       "{99: 99,\n",
       " 1: 7252008,\n",
       " 2: 7252004,\n",
       " 3: 7252005,\n",
       " 6: 7252001,\n",
       " 7: 7252007,\n",
       " 9: 7252010,\n",
       " 10: 7252003}"
      ]
     },
     "execution_count": 60,
     "metadata": {},
     "output_type": "execute_result"
    }
   ],
   "source": [
    "IDs"
   ]
  },
  {
   "cell_type": "code",
   "execution_count": null,
   "metadata": {},
   "outputs": [],
   "source": []
  }
 ],
 "metadata": {
  "interpreter": {
   "hash": "4cda1add2f97aa147df6fc84192f87446da33ff8c746d974ec02393c1c97180d"
  },
  "kernelspec": {
   "display_name": "Python 3.7.12 ('centerPy')",
   "language": "python",
   "name": "python3"
  },
  "language_info": {
   "codemirror_mode": {
    "name": "ipython",
    "version": 3
   },
   "file_extension": ".py",
   "mimetype": "text/x-python",
   "name": "python",
   "nbconvert_exporter": "python",
   "pygments_lexer": "ipython3",
   "version": "3.7.12"
  },
  "orig_nbformat": 4
 },
 "nbformat": 4,
 "nbformat_minor": 2
}
